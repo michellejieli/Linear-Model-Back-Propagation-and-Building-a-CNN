{
 "cells": [
  {
   "cell_type": "markdown",
   "id": "44b7275c-e1d6-4a80-8eea-1951f7612c12",
   "metadata": {},
   "source": [
    "### 5. Lab: LMS Algorithm"
   ]
  },
  {
   "cell_type": "code",
   "execution_count": 125,
   "id": "90e1db34-bede-4353-acb3-81f703d9fa47",
   "metadata": {},
   "outputs": [],
   "source": [
    "import numpy as np\n",
    "import scipy.io\n",
    "import torch\n",
    "import torch.nn as nn\n",
    "import random\n",
    "import math\n",
    "%matplotlib inline\n",
    "import matplotlib.pyplot as plt\n",
    "from mpl_toolkits.mplot3d import axes3d\n",
    "from sklearn.metrics import mean_squared_error\n",
    "import scipy.io"
   ]
  },
  {
   "cell_type": "code",
   "execution_count": 21,
   "id": "7050f423-b120-418a-a593-b35eeb71fb21",
   "metadata": {},
   "outputs": [],
   "source": [
    "# download dataset into Numpy array\n",
    "mat = scipy.io.loadmat('Hw 1-dataset.mat')"
   ]
  },
  {
   "cell_type": "code",
   "execution_count": 22,
   "id": "036435ac-2037-4225-aa43-d7a20c84121e",
   "metadata": {},
   "outputs": [
    {
     "name": "stdout",
     "output_type": "stream",
     "text": [
      "<class 'dict'>\n"
     ]
    }
   ],
   "source": [
    "print(type(mat))"
   ]
  },
  {
   "cell_type": "code",
   "execution_count": 23,
   "id": "80fa5cec-6a55-4a6d-b2b7-b1dbf1eb1308",
   "metadata": {},
   "outputs": [
    {
     "data": {
      "text/plain": [
       "dict_keys(['__header__', '__version__', '__globals__', 'D', 'X'])"
      ]
     },
     "execution_count": 23,
     "metadata": {},
     "output_type": "execute_result"
    }
   ],
   "source": [
    "mat.keys()"
   ]
  },
  {
   "cell_type": "markdown",
   "id": "949bf26e-afe9-44ce-ad2f-a38365f982c5",
   "metadata": {},
   "source": [
    "##### 1a. Directly compute the least square (Wiener) solution with the provided dataset. What is the optimal weight W? What is the MSE loss of the whole dataset when the weight is set to W?"
   ]
  },
  {
   "cell_type": "code",
   "execution_count": 126,
   "id": "6cb978d6-f157-4de7-88e7-b3ef81d1dc33",
   "metadata": {},
   "outputs": [],
   "source": [
    "data = mat.get(\"X\")\n",
    "target = mat.get(\"D\")"
   ]
  },
  {
   "cell_type": "code",
   "execution_count": 25,
   "id": "7c208abe-ef40-49ec-8ba3-a53c18f5cda7",
   "metadata": {},
   "outputs": [
    {
     "name": "stdout",
     "output_type": "stream",
     "text": [
      "The optimal weights: [[ 1.0006781 ]\n",
      " [ 1.00061145]\n",
      " [-2.00031968]]\n"
     ]
    }
   ],
   "source": [
    "# optimal weights W* \n",
    "optimal_weights = np.dot((np.dot(np.linalg.inv(np.dot(data.T,data)),data.T)),target)\n",
    "print(\"The optimal weights:\", optimal_weights)"
   ]
  },
  {
   "cell_type": "code",
   "execution_count": 26,
   "id": "667db0fd-5cf3-4e50-967e-2cd4fec0d0c0",
   "metadata": {},
   "outputs": [
    {
     "name": "stdout",
     "output_type": "stream",
     "text": [
      "MSE loss: 5.039951565868384e-05\n"
     ]
    }
   ],
   "source": [
    "# MSE loss of whole data when weight is set to optimal weight\n",
    "predicted = np.dot(data, optimal_weights) \n",
    "# compute MSE\n",
    "mse = (np.sum(np.square(target - predicted)))/(2*len(data))\n",
    "print(\"MSE loss:\", mse)"
   ]
  },
  {
   "cell_type": "markdown",
   "id": "04637cb9-bcdb-40da-958a-3cda3eaf5e91",
   "metadata": {},
   "source": [
    "The optimal weights for W are 1.0006781, 1.00061145, and -2.00031968. The MSE loss is 5.039951565868384e-05. "
   ]
  },
  {
   "cell_type": "markdown",
   "id": "37fa8d55-ee67-4f53-a4cc-81ce4b6fc0a5",
   "metadata": {},
   "source": [
    "##### 1b. Now consider that you can only train with 1 pair of data point and target each time. In such case, the LMS algorithm should be used to find the optimal weight. Please initialize the weight vector as W0 = [0, 0, 0]T , and update the weight with the LMS algorithm. After each epoch (every time you go through all the training data and loop back to the beginning), compute and record the MSE loss of the current weight on the whole dataset. Run LMS for 20 epochs with learning rate r = 0.01, report the weight you get in the end and plot the MSE loss in log scale vs. Epochs."
   ]
  },
  {
   "cell_type": "code",
   "execution_count": 27,
   "id": "e46b09b6-b365-49c5-9c6c-3b39100c2051",
   "metadata": {},
   "outputs": [
    {
     "name": "stdout",
     "output_type": "stream",
     "text": [
      "[ 1.00074855  1.00082859 -2.00068123]\n",
      "[8.18759089e-05]\n"
     ]
    }
   ],
   "source": [
    "# initialize weights to be all zero\n",
    "theta = np.zeros(3)\n",
    "MSE_lst = []\n",
    "for _ in range(20):\n",
    "    for i in range(0, len(data)):\n",
    "        E = 0 \n",
    "        predicted = np.transpose(np.array(theta)).dot(np.array(data[i]))\n",
    "        E = E + np.power((predicted - target[i]), 2)\n",
    "        # update weights\n",
    "        theta = theta + 0.01 * (target[i] - predicted) * data[i]\n",
    "    MSE_lst.append(E) \n",
    "print(theta)\n",
    "print(E)"
   ]
  },
  {
   "cell_type": "code",
   "execution_count": 28,
   "id": "46d8250b-0602-477f-badb-8922a9285d99",
   "metadata": {},
   "outputs": [
    {
     "name": "stdout",
     "output_type": "stream",
     "text": [
      "For each epoch, the MSE loss of the current weight on the whole dataset: [array([0.09137405]), array([0.00932383]), array([0.00066183]), array([3.73301647e-06]), array([3.3634425e-05]), array([6.71321906e-05]), array([7.88330207e-05]), array([8.1853185e-05]), array([8.2332963e-05]), array([8.22382752e-05]), array([8.2089857e-05]), array([8.19879624e-05]), array([8.19308432e-05]), array([8.19017012e-05]), array([8.18876235e-05]), array([8.18810616e-05]), array([8.1878079e-05]), array([8.18767484e-05]), array([8.18761633e-05]), array([8.18759089e-05])]\n"
     ]
    }
   ],
   "source": [
    "print(\"For each epoch, the MSE loss of the current weight on the whole dataset:\", MSE_lst)"
   ]
  },
  {
   "cell_type": "code",
   "execution_count": 29,
   "id": "6886e218-4d7d-4879-ba0b-b56f91cc4161",
   "metadata": {},
   "outputs": [],
   "source": [
    "epochs = list(range(1,21))"
   ]
  },
  {
   "cell_type": "code",
   "execution_count": 30,
   "id": "1189e0fe-1202-4f13-b4f1-f2c3d12f9175",
   "metadata": {},
   "outputs": [
    {
     "data": {
      "image/png": "[encoded data removed]",
      "text/plain": [
       "<Figure size 432x288 with 1 Axes>"
      ]
     },
     "metadata": {
      "needs_background": "light"
     },
     "output_type": "display_data"
    }
   ],
   "source": [
    "plt.plot(epochs, MSE_lst)\n",
    "plt.title(\"MSE Training Loss vs. Epochs\")\n",
    "plt.xlabel(\"Epochs\")\n",
    "plt.ylabel(\"MSE Loss\")\n",
    "plt.yscale('log')"
   ]
  },
  {
   "cell_type": "markdown",
   "id": "4a431b93-bde5-4887-915b-f3c9577c24b5",
   "metadata": {},
   "source": [
    "After 20 epochs, the final weights are 1.00074855, 1.00082859, and -2.00068123. The MSE final loss is 8.18759089e-05. "
   ]
  },
  {
   "cell_type": "markdown",
   "id": "1610632e-496a-42dd-9d99-062e134b2930",
   "metadata": {},
   "source": [
    "##### 1c. Scatter plot the points (x1k, x2k, dk) for all 100 data-target pairs in a 3D figure, and plot the lines corresponding to the linear models you got in (a) and (b) respectively in the same figure. Observe if the linear models fit the data well."
   ]
  },
  {
   "cell_type": "code",
   "execution_count": 127,
   "id": "70bc8d4c-703c-437f-b2c6-48180b64e856",
   "metadata": {},
   "outputs": [
    {
     "data": {
      "image/png": "[encoded data removed]",
      "text/plain": [
       "<Figure size 432x288 with 1 Axes>"
      ]
     },
     "metadata": {
      "needs_background": "light"
     },
     "output_type": "display_data"
    }
   ],
   "source": [
    "# data for three-dimensional scattered points\n",
    "fig = plt.figure()\n",
    "ax = fig.add_subplot(111, projection='3d')\n",
    "\n",
    "# second column from data\n",
    "x = list(data[:,1])\n",
    "# third column from data\n",
    "y = list(data[:,2])\n",
    "# scatter plot\n",
    "ax.scatter(x, y, target, alpha=0.5)\n",
    "\n",
    "# create x,y\n",
    "a = np.linspace(min(x), max(x), 100)\n",
    "b = np.linspace(min(y), max(y), 100)\n",
    "\n",
    "xx, yy = np.meshgrid(a, b)\n",
    "#meshgrid form linspace\n",
    "\n",
    "# plane from 1a\n",
    "z_1 = optimal_weights[1] * xx + optimal_weights[2] * yy + optimal_weights[0]                        \n",
    "ax.plot_surface(xx, yy, z_1, alpha=0.5)\n",
    "\n",
    "# plane from 1b\n",
    "z_2 = theta[1] * xx + theta[2] * yy + theta[0]\n",
    "ax.plot_surface(xx, yy, z_2, alpha=0.5)\n",
    "\n",
    "# rotate the axes and update\n",
    "# ax.view_init(-130, 60)\n",
    "# ax.view_init(4, 60)\n",
    "plt.title(\"3D Scatter Plot with Linear Models\")\n",
    "plt.show()"
   ]
  },
  {
   "cell_type": "markdown",
   "id": "5eb1742d-7e0a-4acb-956a-fc51b5219bbe",
   "metadata": {},
   "source": [
    "The linear model fits the data perfectly, since the data points lie very close to the plane. The planes from 1a and 1b overlap."
   ]
  },
  {
   "cell_type": "markdown",
   "id": "430569b2-f962-4fda-ab7b-37466b8df12a",
   "metadata": {},
   "source": [
    "##### 1d. Learning rate r is an important hyperparameter for the LMS algorithm, as well as for CNN optimization. Here, try repeat the process in (b) with r set to 0.005, 0.05 and 0.5 respectively. Together with the result you got in (b), plot the MSE losses of the 4 sets of experiments in log scale vs. Epochs in one figure. Then try further enlarge the learning rate to r = 1 and observe how the MSE changes. Based on these observations, comment on how learning rate affects the speed and quality of the learning process."
   ]
  },
  {
   "cell_type": "code",
   "execution_count": 128,
   "id": "2b29e7f3-5881-4ccd-8de9-c2a0bf13079c",
   "metadata": {},
   "outputs": [
    {
     "name": "stderr",
     "output_type": "stream",
     "text": [
      "/tmp/ipykernel_51959/4052076416.py:8: RuntimeWarning: overflow encountered in power\n",
      "  E = E + np.power((predicted - target[i]), 2)\n"
     ]
    }
   ],
   "source": [
    "def lms(lr):\n",
    "    theta = np.zeros(3)\n",
    "    MSE_lst = []\n",
    "    for _ in range(20):\n",
    "        for i in range(0, len(data)):\n",
    "            E = 0 \n",
    "            predicted = np.transpose(np.array(theta)).dot(np.array(data[i]))\n",
    "            E = E + np.power((predicted - target[i]), 2)\n",
    "            # update weights\n",
    "            theta = theta + lr * (target[i] - predicted) * data[i]\n",
    "        MSE_lst.append(E)\n",
    "    return MSE_lst\n",
    "\n",
    "# lr = 0.01\n",
    "lr_01 = lms(0.01)\n",
    "\n",
    "# lr = 0.005\n",
    "lr_005 = lms(0.005)\n",
    "\n",
    "# lr = 0.05 \n",
    "lr_05 = lms(0.05)\n",
    "\n",
    "# lr = 0.5\n",
    "lr_5 = lms(0.5)\n",
    "\n",
    "#lr = 1\n",
    "lr_1 = lms(1)"
   ]
  },
  {
   "cell_type": "code",
   "execution_count": 129,
   "id": "e6121863-3ad8-4784-b70d-eba45306c85d",
   "metadata": {},
   "outputs": [
    {
     "data": {
      "text/plain": [
       "[array([4.24772736e+18]),\n",
       " array([2.75663473e+37]),\n",
       " array([1.78896767e+56]),\n",
       " array([1.16098273e+75]),\n",
       " array([7.53440618e+93]),\n",
       " array([4.88958835e+112]),\n",
       " array([3.17318627e+131]),\n",
       " array([2.05929628e+150]),\n",
       " array([1.33641734e+169]),\n",
       " array([8.67292062e+187]),\n",
       " array([5.62844776e+206]),\n",
       " array([3.65268237e+225]),\n",
       " array([2.37047389e+244]),\n",
       " array([1.53836165e+263]),\n",
       " array([9.98347451e+281]),\n",
       " array([6.47895528e+300]),\n",
       " array([inf]),\n",
       " array([inf]),\n",
       " array([inf]),\n",
       " array([inf])]"
      ]
     },
     "execution_count": 129,
     "metadata": {},
     "output_type": "execute_result"
    }
   ],
   "source": [
    "lr_1"
   ]
  },
  {
   "cell_type": "code",
   "execution_count": 130,
   "id": "6495f786-6f77-477f-b801-28be22a4872b",
   "metadata": {},
   "outputs": [
    {
     "data": {
      "image/png": "[encoded data removed]",
      "text/plain": [
       "<Figure size 432x288 with 1 Axes>"
      ]
     },
     "metadata": {
      "needs_background": "light"
     },
     "output_type": "display_data"
    }
   ],
   "source": [
    "# plot MSE for lr = 0.01, 0.005, 0.05, 0.5\n",
    "plt.plot(epochs, lr_005, label = \"lr = 0.005\")\n",
    "plt.plot(epochs, lr_01, label = 'lr = 0.01')\n",
    "plt.plot(epochs, lr_05, label = \"lr = 0.05\")\n",
    "plt.plot(epochs, lr_5, label = \"lr = 0.5\")\n",
    "\n",
    "plt.legend()\n",
    "plt.title(\"MSE Training Loss vs. Epochs\")\n",
    "plt.xlabel(\"Epochs\")\n",
    "plt.ylabel(\"MSE Loss\")\n",
    "plt.yscale('log')"
   ]
  },
  {
   "cell_type": "markdown",
   "id": "7fad88e6-0b9f-437b-abf1-b224424f027f",
   "metadata": {},
   "source": [
    "Based on these observations, learning rate changes the speed and quality of the learning process. Learning rate controls how weights are adjusted. When the learning rate is small, like 0.005, it takes longer to converge nad a waste of computing resources, but it may have better quality in terms of finding local minima. When the learning rate is too big, like 0.5, then the loss remains constant as epochs increase. While a larger learning rate increases speed, the quality of learning decreases since it can overshoot the minimum or fail to converge. When learning rate = 1, this causes the MSE loss to reach infinity, which means that the model is making large errors and divergence of loss. "
   ]
  }
 ],
 "metadata": {
  "kernelspec": {
   "display_name": "Python 3 (ipykernel)",
   "language": "python",
   "name": "python3"
  },
  "language_info": {
   "codemirror_mode": {
    "name": "ipython",
    "version": 3
   },
   "file_extension": ".py",
   "mimetype": "text/x-python",
   "name": "python",
   "nbconvert_exporter": "python",
   "pygments_lexer": "ipython3",
   "version": "3.9.7"
  }
 },
 "nbformat": 4,
 "nbformat_minor": 5
}
